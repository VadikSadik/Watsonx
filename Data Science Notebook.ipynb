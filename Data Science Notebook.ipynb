{
    "cells": [
        {
            "cell_type": "markdown",
            "metadata": {
                "collapsed": true,
                "id": "f373630d-264c-48ee-ba01-bb89b3c52fa9",
                "jupyter": {
                    "outputs_hidden": true
                }
            },
            "source": "This program prints Hello, world!"
        },
        {
            "cell_type": "code",
            "execution_count": 1,
            "metadata": {
                "id": "511f9d87-1ea0-4a75-8c56-304000a067b0"
            },
            "outputs": [
                {
                    "name": "stdout",
                    "output_type": "stream",
                    "text": "Hello, world!\n"
                }
            ],
            "source": "print(\"Hello, world!\")"
        }
    ],
    "metadata": {
        "kernelspec": {
            "display_name": "Python 3.11",
            "language": "python",
            "name": "python3"
        },
        "language_info": {
            "codemirror_mode": {
                "name": "ipython",
                "version": 3
            },
            "file_extension": ".py",
            "mimetype": "text/x-python",
            "name": "python",
            "nbconvert_exporter": "python",
            "pygments_lexer": "ipython3",
            "version": "3.11.9"
        }
    },
    "nbformat": 4,
    "nbformat_minor": 4
}